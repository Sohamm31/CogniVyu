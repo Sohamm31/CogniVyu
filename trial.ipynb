{
 "cells": [
  {
   "cell_type": "code",
   "execution_count": 1,
   "metadata": {},
   "outputs": [
    {
     "data": {
      "text/plain": [
       "'ok'"
      ]
     },
     "execution_count": 1,
     "metadata": {},
     "output_type": "execute_result"
    }
   ],
   "source": [
    "\"ok\""
   ]
  },
  {
   "cell_type": "code",
   "execution_count": 182,
   "metadata": {},
   "outputs": [],
   "source": [
    "import os\n",
    "from pinecone import Pinecone, ServerlessSpec\n",
    "from langchain.document_loaders import PyPDFLoader\n",
    "from langchain.text_splitter import RecursiveCharacterTextSplitter\n",
    "from langchain.embeddings import HuggingFaceEmbeddings\n",
    "from langchain.vectorstores import Pinecone as PineconeVectorStore\n",
    "import pinecone\n",
    "from dotenv import load_dotenv"
   ]
  },
  {
   "cell_type": "code",
   "execution_count": 183,
   "metadata": {},
   "outputs": [
    {
     "data": {
      "text/plain": [
       "True"
      ]
     },
     "execution_count": 183,
     "metadata": {},
     "output_type": "execute_result"
    }
   ],
   "source": [
    "load_dotenv()"
   ]
  },
  {
   "cell_type": "code",
   "execution_count": 184,
   "metadata": {},
   "outputs": [],
   "source": [
    "import os\n",
    "from pinecone import Pinecone, ServerlessSpec\n",
    "\n",
    "# Load key\n",
    "PINECONE_API_KEY = os.getenv(\"PINECONE_API_KEY\")\n",
    "\n",
    "if not PINECONE_API_KEY:\n",
    "    raise ValueError(\"PINECONE_API_KEY not found. Please set it first!\")\n",
    "\n",
    "# Initialize Pinecone client\n",
    "pc = Pinecone(api_key=PINECONE_API_KEY)\n"
   ]
  },
  {
   "cell_type": "code",
   "execution_count": null,
   "metadata": {},
   "outputs": [],
   "source": [
    "index_name = \"all-in-one-agent\"\n",
    "\n",
    "if index_name not in pc.list_indexes().names():\n",
    "    pc.create_index(\n",
    "        name=index_name,\n",
    "        dimension=384,  \n",
    "        metric=\"cosine\",\n",
    "        spec=ServerlessSpec(\n",
    "            cloud=\"aws\", \n",
    "            region=\"us-east-1\"\n",
    "        )\n",
    "    )\n",
    "\n"
   ]
  },
  {
   "cell_type": "code",
   "execution_count": null,
   "metadata": {},
   "outputs": [],
   "source": []
  },
  {
   "cell_type": "code",
   "execution_count": 186,
   "metadata": {},
   "outputs": [],
   "source": [
    "embeddings=HuggingFaceEmbeddings(model_name='sentence-transformers/all-MiniLM-L6-v2')"
   ]
  },
  {
   "cell_type": "code",
   "execution_count": null,
   "metadata": {},
   "outputs": [],
   "source": [
    "base_dir = \"data\" \n"
   ]
  },
  {
   "cell_type": "code",
   "execution_count": 188,
   "metadata": {},
   "outputs": [],
   "source": [
    "splitter = RecursiveCharacterTextSplitter(\n",
    "    chunk_size=1000,\n",
    "    chunk_overlap=200,\n",
    "    length_function=len\n",
    ")\n",
    "\n",
    "all_chunks = []\n"
   ]
  },
  {
   "cell_type": "code",
   "execution_count": null,
   "metadata": {},
   "outputs": [
    {
     "name": "stdout",
     "output_type": "stream",
     "text": [
      "📄 Processing data/wellness/14.DavidWerner-WhereThereIsNoDoctor.pdf (domain: wellness)\n",
      "📄 Processing data/finance/Personal Finance for Dummies.pdf (domain: finance)\n"
     ]
    },
    {
     "name": "stderr",
     "output_type": "stream",
     "text": [
      "Ignoring wrong pointing object 7 0 (offset 0)\n",
      "Ignoring wrong pointing object 9 0 (offset 0)\n",
      "Ignoring wrong pointing object 11 0 (offset 0)\n",
      "Ignoring wrong pointing object 13 0 (offset 0)\n",
      "Ignoring wrong pointing object 15 0 (offset 0)\n",
      "Ignoring wrong pointing object 17 0 (offset 0)\n",
      "Ignoring wrong pointing object 19 0 (offset 0)\n",
      "Ignoring wrong pointing object 21 0 (offset 0)\n",
      "Ignoring wrong pointing object 29 0 (offset 0)\n",
      "Ignoring wrong pointing object 31 0 (offset 0)\n",
      "Ignoring wrong pointing object 33 0 (offset 0)\n",
      "Ignoring wrong pointing object 35 0 (offset 0)\n",
      "Ignoring wrong pointing object 40 0 (offset 0)\n",
      "Ignoring wrong pointing object 42 0 (offset 0)\n",
      "Ignoring wrong pointing object 53 0 (offset 0)\n",
      "Ignoring wrong pointing object 55 0 (offset 0)\n",
      "Ignoring wrong pointing object 57 0 (offset 0)\n",
      "Ignoring wrong pointing object 59 0 (offset 0)\n",
      "Ignoring wrong pointing object 61 0 (offset 0)\n",
      "Ignoring wrong pointing object 63 0 (offset 0)\n",
      "Ignoring wrong pointing object 69 0 (offset 0)\n",
      "Ignoring wrong pointing object 81 0 (offset 0)\n",
      "Ignoring wrong pointing object 89 0 (offset 0)\n",
      "Ignoring wrong pointing object 91 0 (offset 0)\n",
      "Ignoring wrong pointing object 93 0 (offset 0)\n",
      "Ignoring wrong pointing object 96 0 (offset 0)\n",
      "Ignoring wrong pointing object 101 0 (offset 0)\n",
      "Ignoring wrong pointing object 103 0 (offset 0)\n",
      "Ignoring wrong pointing object 129 0 (offset 0)\n",
      "Ignoring wrong pointing object 134 0 (offset 0)\n",
      "Ignoring wrong pointing object 139 0 (offset 0)\n",
      "Ignoring wrong pointing object 149 0 (offset 0)\n",
      "Ignoring wrong pointing object 151 0 (offset 0)\n",
      "Ignoring wrong pointing object 181 0 (offset 0)\n",
      "Ignoring wrong pointing object 183 0 (offset 0)\n",
      "Ignoring wrong pointing object 220 0 (offset 0)\n",
      "Ignoring wrong pointing object 878 0 (offset 0)\n",
      "Ignoring wrong pointing object 935 0 (offset 0)\n",
      "Ignoring wrong pointing object 1191 0 (offset 0)\n",
      "Ignoring wrong pointing object 1235 0 (offset 0)\n",
      "Ignoring wrong pointing object 1429 0 (offset 0)\n",
      "Ignoring wrong pointing object 1431 0 (offset 0)\n",
      "Ignoring wrong pointing object 1433 0 (offset 0)\n",
      "Ignoring wrong pointing object 1487 0 (offset 0)\n",
      "Ignoring wrong pointing object 1495 0 (offset 0)\n",
      "Ignoring wrong pointing object 1549 0 (offset 0)\n",
      "Ignoring wrong pointing object 1657 0 (offset 0)\n",
      "Ignoring wrong pointing object 1679 0 (offset 0)\n",
      "Ignoring wrong pointing object 1681 0 (offset 0)\n",
      "Ignoring wrong pointing object 1683 0 (offset 0)\n",
      "Ignoring wrong pointing object 1685 0 (offset 0)\n",
      "Ignoring wrong pointing object 1687 0 (offset 0)\n",
      "Ignoring wrong pointing object 1689 0 (offset 0)\n",
      "Ignoring wrong pointing object 1712 0 (offset 0)\n",
      "Ignoring wrong pointing object 1720 0 (offset 0)\n",
      "Ignoring wrong pointing object 1722 0 (offset 0)\n",
      "Ignoring wrong pointing object 1740 0 (offset 0)\n",
      "Ignoring wrong pointing object 3592 0 (offset 0)\n",
      "Ignoring wrong pointing object 3594 0 (offset 0)\n"
     ]
    },
    {
     "name": "stdout",
     "output_type": "stream",
     "text": [
      "📄 Processing data/finance/Personal Financial Planning - GRAD - 2021 August.pdf (domain: finance)\n",
      "📄 Processing data/home_diy/pdfcoffee.com_diy-and-home-improvements-handbook-pdf-free.pdf (domain: home_diy)\n",
      "📄 Processing data/home_diy/make-yourself-at-home-diy-guide-070618.pdf (domain: home_diy)\n",
      "📄 Processing data/home_diy/the-complete-idiots-guide-to-simple-home-repair.pdf (domain: home_diy)\n",
      "📄 Processing data/home_diy/The Complete Do-it-Yourself Manual.pdf (domain: home_diy)\n",
      "📄 Processing data/travel/The World.pdf (domain: travel)\n",
      "📄 Processing data/travel/Colette Worldwide Travel Guide 2021-2023.pdf (domain: travel)\n"
     ]
    }
   ],
   "source": [
    "for domain in os.listdir(base_dir):\n",
    "    domain_path = os.path.join(base_dir, domain)\n",
    "\n",
    "    if os.path.isdir(domain_path):\n",
    "        for file in os.listdir(domain_path):\n",
    "            if file.endswith(\".pdf\"):\n",
    "                file_path = os.path.join(domain_path, file)\n",
    "                print(f\"📄 Processing {file_path} (domain: {domain})\")\n",
    "\n",
    "                loader = PyPDFLoader(file_path)\n",
    "                docs = loader.load()\n",
    "                chunks = splitter.split_documents(docs)\n",
    "\n",
    "                for chunk in chunks:\n",
    "                    chunk.metadata[\"domain\"] = domain\n",
    "                    chunk.metadata[\"source_file\"] = file\n",
    "\n",
    "                all_chunks.extend(chunks)"
   ]
  },
  {
   "cell_type": "code",
   "execution_count": 190,
   "metadata": {},
   "outputs": [],
   "source": [
    "from langchain_pinecone import PineconeVectorStore\n"
   ]
  },
  {
   "cell_type": "code",
   "execution_count": 191,
   "metadata": {},
   "outputs": [
    {
     "name": "stdout",
     "output_type": "stream",
     "text": [
      "🚀 Uploading 9487 chunks to Pinecone...\n"
     ]
    }
   ],
   "source": [
    "print(f\"🚀 Uploading {len(all_chunks)} chunks to Pinecone...\")\n",
    "vectorstore = PineconeVectorStore.from_documents(\n",
    "    documents=all_chunks,\n",
    "    embedding=embeddings,\n",
    "    index_name=index_name\n",
    ")\n"
   ]
  },
  {
   "cell_type": "code",
   "execution_count": 192,
   "metadata": {},
   "outputs": [],
   "source": [
    "docsearch = PineconeVectorStore.from_existing_index(\n",
    "    index_name=index_name,\n",
    "    embedding=embeddings\n",
    ")"
   ]
  },
  {
   "cell_type": "code",
   "execution_count": 47,
   "metadata": {},
   "outputs": [],
   "source": [
    "retriever = docsearch.as_retriever(search_type=\"similarity\", search_kwargs={\"k\":3})\n"
   ]
  },
  {
   "cell_type": "code",
   "execution_count": 48,
   "metadata": {},
   "outputs": [],
   "source": [
    "from langchain_openai import ChatOpenAI\n"
   ]
  },
  {
   "cell_type": "code",
   "execution_count": 51,
   "metadata": {},
   "outputs": [
    {
     "data": {
      "text/plain": [
       "True"
      ]
     },
     "execution_count": 51,
     "metadata": {},
     "output_type": "execute_result"
    }
   ],
   "source": [
    "load_dotenv()"
   ]
  },
  {
   "cell_type": "code",
   "execution_count": 52,
   "metadata": {},
   "outputs": [],
   "source": [
    "OPENROUTER_KEY = os.getenv(\"OPENROUTER_KEY\")\n"
   ]
  },
  {
   "cell_type": "code",
   "execution_count": 53,
   "metadata": {},
   "outputs": [],
   "source": [
    "llm = ChatOpenAI(\n",
    "            model=\"openai/gpt-oss-20b:free\",\n",
    "            temperature=0,\n",
    "            openai_api_key=OPENROUTER_KEY,\n",
    "            base_url=\"https://openrouter.ai/api/v1\",\n",
    "            default_headers={\"HTTP-Referer\": \"http://localhost:8000\", \"X-Title\": \"AI Data Analyst\"}\n",
    "        )"
   ]
  },
  {
   "cell_type": "code",
   "execution_count": 54,
   "metadata": {},
   "outputs": [],
   "source": [
    "from langchain.chains import RetrievalQA\n"
   ]
  },
  {
   "cell_type": "code",
   "execution_count": 55,
   "metadata": {},
   "outputs": [],
   "source": [
    "qa = RetrievalQA.from_chain_type(\n",
    "    llm=llm,\n",
    "    retriever=retriever,\n",
    "    chain_type=\"stuff\"\n",
    ")"
   ]
  },
  {
   "cell_type": "code",
   "execution_count": 56,
   "metadata": {},
   "outputs": [
    {
     "name": "stderr",
     "output_type": "stream",
     "text": [
      "/var/folders/vr/k31rtn_168v7kvg7k8xq_v540000gn/T/ipykernel_65704/538902407.py:2: LangChainDeprecationWarning: The method `Chain.run` was deprecated in langchain 0.1.0 and will be removed in 1.0. Use :meth:`~invoke` instead.\n",
      "  result = qa.run(query)\n"
     ]
    }
   ],
   "source": [
    "query = \"Give me some hobby ideas that are popular in India.\"\n",
    "result = qa.run(query)"
   ]
  },
  {
   "cell_type": "code",
   "execution_count": 157,
   "metadata": {},
   "outputs": [],
   "source": [
    "llm = ChatOpenAI(\n",
    "            model=\"openai/gpt-oss-20b:free\",\n",
    "            temperature=0,\n",
    "            openai_api_key=OPENROUTER_KEY,\n",
    "            base_url=\"https://openrouter.ai/api/v1\",\n",
    "            default_headers={\"HTTP-Referer\": \"http://localhost:8000\", \"X-Title\": \"AI Data Analyst\"}\n",
    "        )"
   ]
  },
  {
   "cell_type": "code",
   "execution_count": null,
   "metadata": {},
   "outputs": [
    {
     "name": "stdout",
     "output_type": "stream",
     "text": [
      "Travel & Local Guide\n"
     ]
    }
   ],
   "source": [
    "def classify_domain_with_llm(query):\n",
    "    prompt = f\"\"\"\n",
    "You are a smart assistant that classifies user questions into one of the following domains:\n",
    "1. Finance & Budgeting\n",
    "2. Travel & Local Guide\n",
    "3. Home & DIY\n",
    "4. Hobbies & Skills\n",
    "5. Health & Wellness\n",
    "\n",
    "Classify the following question into **only one domain**. Respond with the domain exactly as listed above.\n",
    "\n",
    "Question: \"{query}\"\n",
    "\"\"\"\n",
    "    response = llm.invoke(prompt)\n",
    "    return response.content.strip()\n",
    "\n",
    "query = \"What are some tips for planning a budget-friendly vacation?\"\n",
    "domain = classify_domain_with_llm(query)\n",
    "print(domain)  "
   ]
  },
  {
   "cell_type": "code",
   "execution_count": null,
   "metadata": {},
   "outputs": [],
   "source": [
    "vectorstore = PineconeVectorStore.from_existing_index(index_name, embeddings)\n",
    "\n",
    "retriever = vectorstore.as_retriever(\n",
    "    search_kwargs={\"k\": 4},\n",
    "    filter={\"domain\": \"tavel\"}\n",
    ")\n",
    "\n",
    "docs = retriever.get_relevant_documents(query)\n"
   ]
  },
  {
   "cell_type": "code",
   "execution_count": 195,
   "metadata": {},
   "outputs": [
    {
     "name": "stdout",
     "output_type": "stream",
     "text": [
      "Retrieved docs: 4\n",
      "deal of money. Many movies, theaters, museums, and restaurants offer \n",
      "discount prices on certain days and times.\n",
      "Cultivate some interests and hobbies that are free or low-cost. Visiting with \n",
      "friends, hiking, reading, and playing sports can be good for your finances as \n",
      "well as your health.\n",
      "Vacation\n",
      "{'author': 'Tyson, Eric.', 'creationdate': '2009-10-01T00:15:41-04:00', 'creator': 'Adobe InDesign CS4 (6.0.2)', 'domain': 'finance', 'moddate': '2013-10-14T22:02:30-04:00', 'page': 139.0, 'page_label': '140', 'producer': 'Acrobat Distiller 6.0.1 (Windows)', 'source': 'data/finance/Personal Finance for Dummies.pdf', 'source_file': 'Personal Finance for Dummies.pdf', 'title': 'Personal Finance for Dummies', 'total_pages': 483.0}\n",
      "deal of money. Many movies, theaters, museums, and restaurants offer \n",
      "discount prices on certain days and times.\n",
      "Cultivate some interests and hobbies that are free or low-cost. Visiting with \n",
      "friends, hiking, reading, and playing sports can be good for your finances as \n",
      "well as your health.\n",
      "Vacation\n",
      "{'author': 'Tyson, Eric.', 'creationdate': '2009-10-01T00:15:41-04:00', 'creator': 'Adobe InDesign CS4 (6.0.2)', 'domain': 'finance', 'moddate': '2013-10-14T22:02:30-04:00', 'page': 139.0, 'page_label': '140', 'producer': 'Acrobat Distiller 6.0.1 (Windows)', 'source': 'data/finance/Personal Finance for Dummies.pdf', 'source_file': 'Personal Finance for Dummies.pdf', 'title': 'Personal Finance for Dummies', 'total_pages': 483.0}\n",
      "than no budget approach. And be patient: start with one approach and you’ll perfect your planning over time.  Play around with some of the above methods – try one for 3 months, then try another for the next 3 months, and so on. You’ll find the one that works for you, or perhaps you’ll create your ow\n",
      "{'creationdate': \"D:20211006180010Z00'00'\", 'creator': 'Word', 'domain': 'finance', 'moddate': \"D:20211006180010Z00'00'\", 'page': 33.0, 'page_label': '34', 'producer': 'macOS Version 11.6 (Build 20G165) Quartz PDFContext', 'source': 'data/finance/Personal Financial Planning - GRAD - 2021 August.pdf', 'source_file': 'Personal Financial Planning - GRAD - 2021 August.pdf', 'title': 'Microsoft Word - Personal Financial Planning - GRAD - 2021 August.docx', 'total_pages': 243.0}\n",
      "than no budget approach. And be patient: start with one approach and you’ll perfect your planning over time.  Play around with some of the above methods – try one for 3 months, then try another for the next 3 months, and so on. You’ll find the one that works for you, or perhaps you’ll create your ow\n",
      "{'creationdate': \"D:20211006180010Z00'00'\", 'creator': 'Word', 'domain': 'finance', 'moddate': \"D:20211006180010Z00'00'\", 'page': 33.0, 'page_label': '34', 'producer': 'macOS Version 11.6 (Build 20G165) Quartz PDFContext', 'source': 'data/finance/Personal Financial Planning - GRAD - 2021 August.pdf', 'source_file': 'Personal Financial Planning - GRAD - 2021 August.pdf', 'title': 'Microsoft Word - Personal Financial Planning - GRAD - 2021 August.docx', 'total_pages': 243.0}\n"
     ]
    }
   ],
   "source": [
    "print(\"Retrieved docs:\", len(docs))\n",
    "for d in docs:\n",
    "    print(d.page_content[:300])\n",
    "    print(d.metadata)\n"
   ]
  },
  {
   "cell_type": "code",
   "execution_count": 196,
   "metadata": {},
   "outputs": [],
   "source": [
    "context = \"\\n\\n\".join([\n",
    "    f\"[{d.metadata['domain']} | {d.metadata['source_file']} | page {d.metadata.get('page', '?')}]\\n{d.page_content}\"\n",
    "    for d in docs\n",
    "])\n"
   ]
  },
  {
   "cell_type": "code",
   "execution_count": 197,
   "metadata": {},
   "outputs": [],
   "source": [
    "from langchain.prompts import PromptTemplate\n",
    "\n",
    "template = \"\"\"\n",
    "You are a specialized assistant that answers questions STRICTLY based on the provided documents and chat history.\n",
    "\n",
    "*** CRITICAL RULES ***\n",
    "1.  **Grounding:** Your entire response MUST be based SOLELY on the information within the \"Retrieved Documents\" section below.\n",
    "2.  **Domain Extraction:** If the question involves domains, you MUST return ONLY the unique values of the field \"domain\" from the retrieved documents.\n",
    "      - Each domain should be listed on a new line.\n",
    "      - Do not add explanations, summaries, or extra text.\n",
    "3.  **No External Knowledge:** DO NOT use any external knowledge, personal opinions, or information you were trained on. Your knowledge is limited to the documents provided.\n",
    "4.  **Handling Missing Information:** If the documents and history do not contain enough information to answer the question, you MUST explicitly state: \"The provided materials do not contain enough information to answer this question.\"\n",
    "5.  **Citation:** You must cite the source for every piece of information you provide, using the format [source_file | page]. \n",
    "      - If only domains are asked, citations are NOT required.\n",
    "6.  **Conciseness & Formatting:** Keep the response under 400 words and use Markdown for clarity (headings, bullet points, bold text).\n",
    "\n",
    "\n",
    "Documents:\n",
    "{context}\n",
    "\n",
    "Question:\n",
    "{question}\n",
    "\n",
    "Answer in a clear, concise, and practical way (bullet points if suitable), and include the exact sources.\n",
    "\"\"\"\n",
    "\n",
    "prompt = PromptTemplate(input_variables=[\"context\", \"question\"], template=template)\n"
   ]
  },
  {
   "cell_type": "code",
   "execution_count": null,
   "metadata": {},
   "outputs": [
    {
     "name": "stdout",
     "output_type": "stream",
     "text": [
      "🤖 LLM Answer:\n",
      " **Budget‑friendly vacation tips**\n",
      "\n",
      "- Avoid borrowing on credit cards for travel expenses; vacations are not investments.  \n",
      "  *[finance | Personal Finance for Dummies.pdf | page 139.0]*  \n",
      "\n",
      "- Opt for shorter trips closer to home, such as state or national parks nearby.  \n",
      "  *[finance Finance for Dummies.pdf | page 139.0]*  \n",
      "\n",
      "- Plan a “stay‑cation” by visiting local sites within 200 miles that you’ve always wanted to see.  \n",
      "  *[finance | Personal Finance for Dummies.pdf | page 139.0]*  \n",
      "\n",
      "- Take advantage of discount days and times at movies, theaters, museums, and restaurants to save on entertainment.  \n",
      "  *[finance | Personal Finance for Dummies.pdf | page 139.0]*\n"
     ]
    }
   ],
   "source": [
    "from langchain_openai import ChatOpenAI  \n",
    "\n",
    "\n",
    "final_prompt = prompt.format(context=context, question=query)\n",
    "response = llm.invoke(final_prompt)\n",
    "\n",
    "print(\"🤖 LLM Answer:\\n\", response.content)\n"
   ]
  },
  {
   "cell_type": "code",
   "execution_count": null,
   "metadata": {},
   "outputs": [],
   "source": []
  }
 ],
 "metadata": {
  "kernelspec": {
   "display_name": "multirag",
   "language": "python",
   "name": "python3"
  },
  "language_info": {
   "codemirror_mode": {
    "name": "ipython",
    "version": 3
   },
   "file_extension": ".py",
   "mimetype": "text/x-python",
   "name": "python",
   "nbconvert_exporter": "python",
   "pygments_lexer": "ipython3",
   "version": "3.12.7"
  }
 },
 "nbformat": 4,
 "nbformat_minor": 2
}
